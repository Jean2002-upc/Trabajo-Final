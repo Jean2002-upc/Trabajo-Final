{
  "cells": [
    {
      "cell_type": "markdown",
      "metadata": {
        "id": "view-in-github",
        "colab_type": "text"
      },
      "source": [
        "<a href=\"https://colab.research.google.com/github/Jean2002-upc/Trabajo-Final/blob/main/Trabajo_Final_Jean_Gutierrez.ipynb\" target=\"_parent\"><img src=\"https://colab.research.google.com/assets/colab-badge.svg\" alt=\"Open In Colab\"/></a>"
      ]
    },
    {
      "cell_type": "markdown",
      "metadata": {
        "id": "9c5e64dc-2bc7-4640-9b71-877eda7b6100"
      },
      "source": [
        "<center>\n",
        "    <img src=\"https://cf-courses-data.s3.us.cloud-object-storage.appdomain.cloud/IBMDeveloperSkillsNetwork-DS0105EN-SkillsNetwork/labs/Module2/images/SN_web_lightmode.png\" width=\"300\" alt=\"cognitiveclass.ai logo\">\n",
        "</center>\n"
      ]
    },
    {
      "cell_type": "markdown",
      "source": [
        "# **Trabajo Final**\n",
        "## Introducción\n",
        "## Lenguajes de ciencias de datos:\n",
        "1.   Python\n",
        "2.   R\n",
        "3.   SQL\n",
        "\n",
        "## Biblioteca de ciencias de datos:\n",
        "*   Vegas\n",
        "*   BigDL\n",
        "*   ggplot2\n",
        "*   Scikit-learn\n",
        "*   TensorFlow\n",
        "*   Apache Spark\n",
        "\n",
        "## Tabla de herramienta de ciencias de datos:\n",
        "\n",
        "Column 1 | Column 2 | Column 3 |\n",
        "   :--   |    :-:   |    :-:   |\n",
        "Data Management  | Data Integration and Transformation  | Data Vizualization\n",
        "Model Building | Model Deployment  | Model Monitoring  \n",
        "\n",
        "## Expresiones aritmeticas"
      ],
      "metadata": {
        "id": "1y2k3u2XRP1l"
      }
    },
    {
      "cell_type": "markdown",
      "metadata": {
        "id": "b5f467ed-efe7-45ac-a08b-b2d48c26ba81"
      },
      "source": [
        "Copyright ©2024 IBM Corporation. All rights reserved.\n"
      ]
    },
    {
      "cell_type": "code",
      "source": [
        "(20*5+1)"
      ],
      "metadata": {
        "colab": {
          "base_uri": "https://localhost:8080/"
        },
        "id": "8aW6fbqoUTTS",
        "outputId": "b6693772-9c90-497f-c40f-3d7fdda281fe"
      },
      "execution_count": null,
      "outputs": [
        {
          "output_type": "execute_result",
          "data": {
            "text/plain": [
              "101"
            ]
          },
          "metadata": {},
          "execution_count": 7
        }
      ]
    },
    {
      "cell_type": "markdown",
      "source": [],
      "metadata": {
        "id": "3dyFbEMEfSKv"
      }
    },
    {
      "cell_type": "markdown",
      "source": [
        "## Celda de código"
      ],
      "metadata": {
        "id": "h_qUrF-oWTu2"
      }
    },
    {
      "cell_type": "code",
      "source": [
        "# Solicitar números al usuario\n",
        "a = float(input(\"Ingresa el primer número: \"))\n",
        "b = float(input(\"Ingresa el segundo número: \"))\n",
        "\n",
        "# Realizar operaciones\n",
        "suma = a + b\n",
        "multiplicacion = a * b\n",
        "\n",
        "# Mostrar resultados\n",
        "print(\"Suma:\", suma)\n",
        "print(\"Multiplicación:\", multiplicacion)\n"
      ],
      "metadata": {
        "colab": {
          "base_uri": "https://localhost:8080/"
        },
        "id": "BOkD3IdMWSkK",
        "outputId": "ba588d21-1029-4dd3-dff7-a05318498a1d"
      },
      "execution_count": null,
      "outputs": [
        {
          "output_type": "stream",
          "name": "stdout",
          "text": [
            "Ingresa el primer número: 1\n",
            "Ingresa el segundo número: 2\n",
            "Suma: 3.0\n",
            "Multiplicación: 2.0\n"
          ]
        }
      ]
    },
    {
      "cell_type": "code",
      "source": [
        "# Solicitar los minutos al usuario\n",
        "minutos = float(input(\"Ingresa la cantidad de minutos: \"))\n",
        "\n",
        "# Convertir a horas\n",
        "horas = minutos / 60\n",
        "\n",
        "# Mostrar resultado\n",
        "print(f\"{minutos} minutos equivalen a {horas:.2f} horas\")"
      ],
      "metadata": {
        "id": "Oc-JAW2jW3jO"
      },
      "execution_count": null,
      "outputs": []
    },
    {
      "cell_type": "code",
      "source": [
        "# Crear una lista vacía para los objetivos\n",
        "objetivos = []\n",
        "\n",
        "# Solicitar cantidad de objetivos\n",
        "n = int(input(\"¿Cuántos objetivos quieres ingresar? \"))\n",
        "\n",
        "# Pedir cada objetivo y agregarlo a la lista\n",
        "for i in range(n):\n",
        "    objetivo = input(f\"Ingresa el objetivo #{i+1}: \")\n",
        "    objetivos.append(objetivo)\n",
        "\n",
        "# Mostrar la lista de objetivos\n",
        "print(\"\\nLista de objetivos:\")\n",
        "for i, obj in enumerate(objetivos, start=1):\n",
        "    print(f\"{i}. {obj}\")\n"
      ],
      "metadata": {
        "colab": {
          "base_uri": "https://localhost:8080/"
        },
        "id": "zo8f-bO2W9Fx",
        "outputId": "11563a2c-8695-478b-96d7-c316be88d310"
      },
      "execution_count": null,
      "outputs": [
        {
          "output_type": "stream",
          "name": "stdout",
          "text": [
            "¿Cuántos objetivos quieres ingresar? 1\n",
            "Ingresa el objetivo #1: Objetivo 1\n",
            "\n",
            "Lista de objetivos:\n",
            "1. Objetivo 1\n"
          ]
        }
      ]
    },
    {
      "cell_type": "markdown",
      "source": [
        "> **Autor:** Jean Jonathan Gutierrez Quilca\n",
        "\n",
        "> **Fecha:** 9 de mayo de 2025  \n",
        "> **Descripción:** Este notebook contiene ejemplos básicos de operaciones matemáticas en Python.\n"
      ],
      "metadata": {
        "id": "TJPCkpjPXk1O"
      }
    },
    {
      "cell_type": "code",
      "source": [],
      "metadata": {
        "id": "Kg7URzGcXySY"
      },
      "execution_count": null,
      "outputs": []
    }
  ],
  "metadata": {
    "kernelspec": {
      "display_name": "Python",
      "language": "python",
      "name": "conda-env-python-py"
    },
    "language_info": {
      "name": "python",
      "version": "3.7.12",
      "mimetype": "text/x-python",
      "codemirror_mode": {
        "name": "ipython",
        "version": 3
      },
      "pygments_lexer": "ipython3",
      "nbconvert_exporter": "python",
      "file_extension": ".py"
    },
    "prev_pub_hash": "9e1985db9844176462bd1d5863048c9f3d17404bbc6a648be9084b0c42b29347",
    "colab": {
      "provenance": [],
      "include_colab_link": true
    }
  },
  "nbformat": 4,
  "nbformat_minor": 0
}